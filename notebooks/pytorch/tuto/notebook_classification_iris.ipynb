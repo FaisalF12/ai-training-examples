{
 "cells": [
  {
   "cell_type": "markdown",
   "id": "67a5f493",
   "metadata": {},
   "source": [
    "# **Classification of iris varieties within the same species**"
   ]
  },
  {
   "cell_type": "markdown",
   "id": "2432e363",
   "metadata": {},
   "source": [
    "## Introduction"
   ]
  },
  {
   "cell_type": "markdown",
   "id": "91d7aab0",
   "metadata": {},
   "source": [
    "The aim of this Notebook is to use AI TRAINING product to train a simple model, on the Iris dataset, with the PyTorch library. It is an exemple of neural network for data classification"
   ]
  },
  {
   "cell_type": "markdown",
   "id": "6d55d4ee",
   "metadata": {},
   "source": [
    "## Code"
   ]
  },
  {
   "cell_type": "markdown",
   "id": "9d7b63ba",
   "metadata": {},
   "source": [
    "The neural network will be set up in different step. First, librairies have to be imported. Next, the neural network model will be defined et the dataset split. Then, the model will be trained. Finally, the loss rate will be displayed.\n",
    "\n"
   ]
  },
  {
   "cell_type": "markdown",
   "id": "c3e5b601",
   "metadata": {},
   "source": [
    "### Step 1 - librairies importation (and installation if required)"
   ]
  },
  {
   "cell_type": "code",
   "execution_count": null,
   "id": "79f4c8c1",
   "metadata": {},
   "outputs": [],
   "source": [
    "pip install pandas sklearn matplotlib tensorflow"
   ]
  },
  {
   "cell_type": "code",
   "execution_count": 2,
   "id": "39b39bf4",
   "metadata": {},
   "outputs": [],
   "source": [
    "%matplotlib inline\n",
    "\n",
    "import matplotlib.pyplot as plt\n",
    "\n",
    "import torch\n",
    "import torch.nn as nn\n",
    "import torch.nn.functional as F\n",
    "\n",
    "# to have a dynamic display of the curves with Tensorboard\n",
    "from torch.utils.tensorboard import SummaryWriter\n",
    "writer = SummaryWriter()\n",
    "\n",
    "import tensorflow as tf\n",
    "import pandas as pd\n",
    "\n",
    "from sklearn.model_selection import train_test_split\n",
    "from sklearn.metrics import accuracy_score\n",
    "from sklearn.datasets import load_iris"
   ]
  },
  {
   "cell_type": "markdown",
   "id": "fec80182",
   "metadata": {},
   "source": [
    "### Step 2 - Define the neural network model "
   ]
  },
  {
   "cell_type": "code",
   "execution_count": 3,
   "id": "435117db",
   "metadata": {},
   "outputs": [],
   "source": [
    "class Model(nn.Module):\n",
    "    def __init__(self):\n",
    "        super().__init__()\n",
    "        # fully connected layer : 4 input features for 4 parameters in X\n",
    "        self.layer1 = nn.Linear(in_features=4, out_features=16)\n",
    "        # fully connected layer\n",
    "        self.layer2 = nn.Linear(in_features=16, out_features=12)\n",
    "        # output layer : 3 output features for 3 species\n",
    "        self.output = nn.Linear(in_features=12, out_features=3)\n",
    "     \n",
    "    def forward(self, x):\n",
    "        # activation fonction : reLU\n",
    "        x = F.relu(self.layer1(x))\n",
    "        x = F.relu(self.layer2(x))\n",
    "        x = self.output(x)\n",
    "        return x"
   ]
  },
  {
   "cell_type": "markdown",
   "id": "c3f24a26",
   "metadata": {},
   "source": [
    "### Step 3 - Load and split Iris dataset"
   ]
  },
  {
   "cell_type": "code",
   "execution_count": 9,
   "id": "0cbfd88f",
   "metadata": {},
   "outputs": [],
   "source": [
    "# data opening\n",
    "dataset = load_iris()\n",
    "\n",
    "# input of the neural network\n",
    "X = dataset.data\n",
    "\n",
    "# output of the neural network\n",
    "y = dataset.target\n",
    "Y = y.astype(\"float64\")\n",
    "\n",
    "# train and test split : 20 % for the test and 80 % for the learning\n",
    "X_train,X_test,y_train,y_test=train_test_split(X,Y,test_size=0.2,random_state=0)\n",
    "\n",
    "# convert split data from numpy array to Pytorch tensors\n",
    "X_train = torch.FloatTensor(X_train)\n",
    "X_test = torch.FloatTensor(X_test)\n",
    "y_train = torch.LongTensor(y_train)\n",
    "y_test = torch.LongTensor(y_test)"
   ]
  },
  {
   "cell_type": "markdown",
   "id": "4a5a5916",
   "metadata": {},
   "source": [
    "### Step 4 - Train model"
   ]
  },
  {
   "cell_type": "code",
   "execution_count": 10,
   "id": "c18bd229",
   "metadata": {},
   "outputs": [
    {
     "name": "stdout",
     "output_type": "stream",
     "text": [
      "Model display:  Model(\n",
      "  (layer1): Linear(in_features=4, out_features=16, bias=True)\n",
      "  (layer2): Linear(in_features=16, out_features=12, bias=True)\n",
      "  (output): Linear(in_features=12, out_features=3, bias=True)\n",
      ")\n",
      "The loss is printed for each epoch: \n",
      "Epoch: 0 Loss: 1.4370280504226685\n",
      "Epoch: 1 Loss: 1.2166391611099243\n",
      "Epoch: 2 Loss: 1.1009374856948853\n",
      "Epoch: 3 Loss: 1.0464273691177368\n",
      "Epoch: 4 Loss: 1.0141911506652832\n",
      "Epoch: 5 Loss: 1.0004136562347412\n",
      "Epoch: 6 Loss: 0.9837054014205933\n",
      "Epoch: 7 Loss: 0.964142382144928\n",
      "Epoch: 8 Loss: 0.9430224299430847\n",
      "Epoch: 9 Loss: 0.9191045165061951\n",
      "Epoch: 10 Loss: 0.8924754858016968\n",
      "Epoch: 11 Loss: 0.8640300631523132\n",
      "Epoch: 12 Loss: 0.8347540497779846\n",
      "Epoch: 13 Loss: 0.804696261882782\n",
      "Epoch: 14 Loss: 0.7732264995574951\n",
      "Epoch: 15 Loss: 0.7398501634597778\n",
      "Epoch: 16 Loss: 0.7062519192695618\n",
      "Epoch: 17 Loss: 0.6749264001846313\n",
      "Epoch: 18 Loss: 0.6455737352371216\n",
      "Epoch: 19 Loss: 0.6181992292404175\n",
      "Epoch: 20 Loss: 0.5927801728248596\n",
      "Epoch: 21 Loss: 0.5686460137367249\n",
      "Epoch: 22 Loss: 0.54595947265625\n",
      "Epoch: 23 Loss: 0.5253849029541016\n",
      "Epoch: 24 Loss: 0.5068102478981018\n",
      "Epoch: 25 Loss: 0.489927738904953\n",
      "Epoch: 26 Loss: 0.4747311770915985\n",
      "Epoch: 27 Loss: 0.46099504828453064\n",
      "Epoch: 28 Loss: 0.4486236274242401\n",
      "Epoch: 29 Loss: 0.4369865655899048\n",
      "Epoch: 30 Loss: 0.4256822168827057\n",
      "Epoch: 31 Loss: 0.41432204842567444\n",
      "Epoch: 32 Loss: 0.40247079730033875\n",
      "Epoch: 33 Loss: 0.3899281919002533\n",
      "Epoch: 34 Loss: 0.3769227862358093\n",
      "Epoch: 35 Loss: 0.36368563771247864\n",
      "Epoch: 36 Loss: 0.3511351943016052\n",
      "Epoch: 37 Loss: 0.3389487564563751\n",
      "Epoch: 38 Loss: 0.32691675424575806\n",
      "Epoch: 39 Loss: 0.31482458114624023\n",
      "Epoch: 40 Loss: 0.30275851488113403\n",
      "Epoch: 41 Loss: 0.2907237708568573\n",
      "Epoch: 42 Loss: 0.27875977754592896\n",
      "Epoch: 43 Loss: 0.26702308654785156\n",
      "Epoch: 44 Loss: 0.25553154945373535\n",
      "Epoch: 45 Loss: 0.24423131346702576\n",
      "Epoch: 46 Loss: 0.2332419902086258\n",
      "Epoch: 47 Loss: 0.22261205315589905\n",
      "Epoch: 48 Loss: 0.21228526532649994\n",
      "Epoch: 49 Loss: 0.20238639414310455\n",
      "Epoch: 50 Loss: 0.19292588531970978\n",
      "Epoch: 51 Loss: 0.18388932943344116\n",
      "Epoch: 52 Loss: 0.17540769279003143\n",
      "Epoch: 53 Loss: 0.16743844747543335\n",
      "Epoch: 54 Loss: 0.15999141335487366\n",
      "Epoch: 55 Loss: 0.15311214327812195\n",
      "Epoch: 56 Loss: 0.14669767022132874\n",
      "Epoch: 57 Loss: 0.14079192280769348\n",
      "Epoch: 58 Loss: 0.135322704911232\n",
      "Epoch: 59 Loss: 0.1302829384803772\n",
      "Epoch: 60 Loss: 0.1256406456232071\n",
      "Epoch: 61 Loss: 0.12134567648172379\n",
      "Epoch: 62 Loss: 0.11740321666002274\n",
      "Epoch: 63 Loss: 0.1137465238571167\n",
      "Epoch: 64 Loss: 0.11038755625486374\n",
      "Epoch: 65 Loss: 0.10726770758628845\n",
      "Epoch: 66 Loss: 0.10439413040876389\n",
      "Epoch: 67 Loss: 0.10172668099403381\n",
      "Epoch: 68 Loss: 0.09926079958677292\n",
      "Epoch: 69 Loss: 0.09697333723306656\n",
      "Epoch: 70 Loss: 0.09485116600990295\n",
      "Epoch: 71 Loss: 0.09288404136896133\n",
      "Epoch: 72 Loss: 0.0910542905330658\n",
      "Epoch: 73 Loss: 0.08935734629631042\n",
      "Epoch: 74 Loss: 0.08777500689029694\n",
      "Epoch: 75 Loss: 0.08630722016096115\n",
      "Epoch: 76 Loss: 0.08493529260158539\n",
      "Epoch: 77 Loss: 0.08365943282842636\n",
      "Epoch: 78 Loss: 0.08246444910764694\n",
      "Epoch: 79 Loss: 0.0813506543636322\n",
      "Epoch: 80 Loss: 0.080306276679039\n",
      "Epoch: 81 Loss: 0.0793316513299942\n",
      "Epoch: 82 Loss: 0.07841502875089645\n",
      "Epoch: 83 Loss: 0.07755576819181442\n",
      "Epoch: 84 Loss: 0.07674499601125717\n",
      "Epoch: 85 Loss: 0.07598225027322769\n",
      "Epoch: 86 Loss: 0.0752624049782753\n",
      "Epoch: 87 Loss: 0.07458348572254181\n",
      "Epoch: 88 Loss: 0.07394039630889893\n",
      "Epoch: 89 Loss: 0.07333066314458847\n",
      "Epoch: 90 Loss: 0.07275176048278809\n",
      "Epoch: 91 Loss: 0.07220081984996796\n",
      "Epoch: 92 Loss: 0.07167691737413406\n",
      "Epoch: 93 Loss: 0.07117653638124466\n",
      "Epoch: 94 Loss: 0.07069972902536392\n",
      "Epoch: 95 Loss: 0.07024308294057846\n",
      "Epoch: 96 Loss: 0.06980709731578827\n",
      "Epoch: 97 Loss: 0.06938852369785309\n",
      "Epoch: 98 Loss: 0.06898760795593262\n",
      "Epoch: 99 Loss: 0.06860220432281494\n"
     ]
    }
   ],
   "source": [
    "# display the model architecture\n",
    "model = Model()\n",
    "print(\"Model display: \",model)\n",
    "\n",
    "# measure loss\n",
    "criterion = nn.CrossEntropyLoss()\n",
    "# optimizer Adam with a learning rate of 0.01\n",
    "optimizer = torch.optim.Adam(model.parameters(), lr=0.01)\n",
    "\n",
    "# the model will be train during 100 epochs\n",
    "epochs = 100\n",
    "writer.flush()  # used for display with Tensorboard\n",
    "epoch_list = []\n",
    "loss_list = []\n",
    "perf= []\n",
    "print(\"The loss is printed for each epoch: \")\n",
    "for i in range(epochs):\n",
    "    optimizer.zero_grad()\n",
    "    y_pred = model.forward(X_train)\n",
    "    loss = criterion(y_pred, y_train)\n",
    "    writer.add_scalar(\"Loss/train\", loss, i)  # used for display with Tensorboard\n",
    "    loss_list.append(loss)\n",
    "    loss.backward()\n",
    "    epoch_list.append(i)\n",
    "    optimizer.step()\n",
    "    \n",
    "    # the loss is printed for each epoch\n",
    "    print(f'Epoch: {i} Loss: {loss}')\n",
    "writer.close()  # used for display with Tensorboard"
   ]
  },
  {
   "cell_type": "markdown",
   "id": "e84b6a25",
   "metadata": {},
   "source": [
    "### Step 5 - Prediction and loss display"
   ]
  },
  {
   "cell_type": "code",
   "execution_count": 11,
   "id": "85d58e8f",
   "metadata": {},
   "outputs": [
    {
     "name": "stdout",
     "output_type": "stream",
     "text": [
      "Last value of loss:  0.069\n",
      "Prediction accuracy:  1.0\n"
     ]
    }
   ],
   "source": [
    "# print the last loss \n",
    "last_loss = loss_list[99].item()\n",
    "print('Last value of loss: ',round(last_loss,3))\n",
    "\n",
    "# make prediction\n",
    "predict_out = model(X_test)\n",
    "_, predict_y = torch.max(predict_out, 1)\n",
    "\n",
    "# print he accuracy\n",
    "print('Prediction accuracy: ', accuracy_score(y_test.data, predict_y.data))"
   ]
  },
  {
   "cell_type": "markdown",
   "id": "85763ed7",
   "metadata": {},
   "source": [
    "- **Dynamic display**"
   ]
  },
  {
   "cell_type": "code",
   "execution_count": null,
   "id": "d7ebb265",
   "metadata": {},
   "outputs": [],
   "source": [
    "# use Tensorboard for a dynamic display of the curve\n",
    "!tensorboard --logdir=runs --bind_all"
   ]
  },
  {
   "cell_type": "markdown",
   "id": "0d48e299",
   "metadata": {},
   "source": [
    "- **Static display**"
   ]
  },
  {
   "cell_type": "code",
   "execution_count": 12,
   "id": "484078f0",
   "metadata": {},
   "outputs": [
    {
     "data": {
      "image/png": "[encoded data removed]",
      "text/plain": [
       "<Figure size 432x288 with 1 Axes>"
      ]
     },
     "metadata": {
      "needs_background": "light"
     },
     "output_type": "display_data"
    }
   ],
   "source": [
    "# display the graph of loss with matplotlib\n",
    "plt.plot(epoch_list,loss_list)\n",
    "plt.title('Evolution of the loss according to the number of epochs')\n",
    "plt.xlabel('Epochs')\n",
    "plt.ylabel('Loss')\n",
    "plt.show()"
   ]
  },
  {
   "cell_type": "markdown",
   "id": "aefa155b",
   "metadata": {},
   "source": [
    "## Conclusion"
   ]
  },
  {
   "cell_type": "markdown",
   "id": "cd1c1b3c",
   "metadata": {},
   "source": [
    "- The loss of this neural network is really low (arround 0.05 %).\n",
    "- The accuracy of the prediction is 100 %. It means that the prediction is always good with this model."
   ]
  }
 ],
 "metadata": {
  "kernelspec": {
   "display_name": "Python 3",
   "language": "python",
   "name": "python3"
  },
  "language_info": {
   "codemirror_mode": {
    "name": "ipython",
    "version": 3
   },
   "file_extension": ".py",
   "mimetype": "text/x-python",
   "name": "python",
   "nbconvert_exporter": "python",
   "pygments_lexer": "ipython3",
   "version": "3.8.8"
  }
 },
 "nbformat": 4,
 "nbformat_minor": 5
}
