{
 "cells": [
  {
   "cell_type": "markdown",
   "id": "2b1f3d69",
   "metadata": {},
   "source": [
    "# **Classification of iris varieties within the same species**"
   ]
  },
  {
   "cell_type": "markdown",
   "id": "598a5340",
   "metadata": {},
   "source": [
    "## Introduction"
   ]
  },
  {
   "cell_type": "markdown",
   "id": "f1d1997e",
   "metadata": {},
   "source": [
    "The aim of this Notebook is to use AI TRAINING product to train a simple model, on the Iris dataset, with the PyTorch library. It is an exemple of neural network for data classification"
   ]
  },
  {
   "cell_type": "markdown",
   "id": "4ace1928",
   "metadata": {},
   "source": [
    "## Code"
   ]
  },
  {
   "cell_type": "markdown",
   "id": "3a58c92d",
   "metadata": {},
   "source": [
    "The neural network will be set up in different step. First, librairies have to be imported. Next, the neural network model will be defined et the dataset split. Then, the model will be trained. Finally, the loss rate will be displayed.\n",
    "\n"
   ]
  },
  {
   "cell_type": "markdown",
   "id": "2c04259f",
   "metadata": {},
   "source": [
    "### Step 1 - librairies importation (and installation if required)"
   ]
  },
  {
   "cell_type": "code",
   "execution_count": null,
   "id": "b35c2a2b",
   "metadata": {},
   "outputs": [],
   "source": [
    "pip install pandas sklearn matplotlib"
   ]
  },
  {
   "cell_type": "code",
   "execution_count": 2,
   "id": "0134e8f4",
   "metadata": {},
   "outputs": [],
   "source": [
    "%matplotlib inline\n",
    "\n",
    "import matplotlib.pyplot as plt\n",
    "\n",
    "import torch\n",
    "import torch.nn as nn\n",
    "import torch.nn.functional as F\n",
    "\n",
    "import pandas as pd\n",
    "\n",
    "from sklearn.model_selection import train_test_split\n",
    "from sklearn.metrics import accuracy_score\n",
    "from sklearn.datasets import load_iris"
   ]
  },
  {
   "cell_type": "markdown",
   "id": "45f9da08",
   "metadata": {},
   "source": [
    "### Step 2 - Define the neural network model "
   ]
  },
  {
   "cell_type": "code",
   "execution_count": 3,
   "id": "58bf38e3",
   "metadata": {},
   "outputs": [],
   "source": [
    "class Model(nn.Module):\n",
    "    def __init__(self):\n",
    "        super().__init__()\n",
    "        # fully connected layer : 4 input features for 4 parameters in X\n",
    "        self.layer1 = nn.Linear(in_features=4, out_features=16)\n",
    "        # fully connected layer\n",
    "        self.layer2 = nn.Linear(in_features=16, out_features=12)\n",
    "        # output layer : 3 output features for 3 species\n",
    "        self.output = nn.Linear(in_features=12, out_features=3)\n",
    "     \n",
    "    def forward(self, x):\n",
    "        # activation fonction : reLU\n",
    "        x = F.relu(self.layer1(x))\n",
    "        x = F.relu(self.layer2(x))\n",
    "        x = self.output(x)\n",
    "        return x"
   ]
  },
  {
   "cell_type": "markdown",
   "id": "c4ad4e3b",
   "metadata": {},
   "source": [
    "### Step 3 - Load and split Iris dataset"
   ]
  },
  {
   "cell_type": "code",
   "execution_count": 4,
   "id": "b05a8c98",
   "metadata": {},
   "outputs": [],
   "source": [
    "# data opening\n",
    "dataset = load_iris()\n",
    "\n",
    "# input of the neural network\n",
    "X = dataset.data\n",
    "\n",
    "# output of the neural network\n",
    "y = dataset.target\n",
    "Y = y.astype(\"float64\")\n",
    "\n",
    "# train and test split : 20 % for the test and 80 % for the learning\n",
    "X_train,X_test,y_train,y_test=train_test_split(X,Y,test_size=0.2,random_state=0)\n",
    "\n",
    "# convert split data from numpy array to Pytorch tensors\n",
    "X_train = torch.FloatTensor(X_train)\n",
    "X_test = torch.FloatTensor(X_test)\n",
    "y_train = torch.LongTensor(y_train)\n",
    "y_test = torch.LongTensor(y_test)"
   ]
  },
  {
   "cell_type": "markdown",
   "id": "da4b5b0f",
   "metadata": {},
   "source": [
    "### Step 4 - Train model"
   ]
  },
  {
   "cell_type": "code",
   "execution_count": 5,
   "id": "e2dbfb7e",
   "metadata": {},
   "outputs": [
    {
     "name": "stdout",
     "output_type": "stream",
     "text": [
      "Model display:  Model(\n",
      "  (layer1): Linear(in_features=4, out_features=16, bias=True)\n",
      "  (layer2): Linear(in_features=16, out_features=12, bias=True)\n",
      "  (output): Linear(in_features=12, out_features=3, bias=True)\n",
      ")\n",
      "The loss is printed for each epoch: \n",
      "Epoch: 0 Loss: 1.1680996417999268\n",
      "Epoch: 1 Loss: 1.097244381904602\n",
      "Epoch: 2 Loss: 1.0423426628112793\n",
      "Epoch: 3 Loss: 0.9945032000541687\n",
      "Epoch: 4 Loss: 0.9617353677749634\n",
      "Epoch: 5 Loss: 0.9350563287734985\n",
      "Epoch: 6 Loss: 0.9055553674697876\n",
      "Epoch: 7 Loss: 0.87175452709198\n",
      "Epoch: 8 Loss: 0.8358991742134094\n",
      "Epoch: 9 Loss: 0.7982655167579651\n",
      "Epoch: 10 Loss: 0.7571284770965576\n",
      "Epoch: 11 Loss: 0.7152224183082581\n",
      "Epoch: 12 Loss: 0.6789106726646423\n",
      "Epoch: 13 Loss: 0.6466698050498962\n",
      "Epoch: 14 Loss: 0.6153203248977661\n",
      "Epoch: 15 Loss: 0.5837200284004211\n",
      "Epoch: 16 Loss: 0.5532621741294861\n",
      "Epoch: 17 Loss: 0.5253481268882751\n",
      "Epoch: 18 Loss: 0.5000964999198914\n",
      "Epoch: 19 Loss: 0.476775586605072\n",
      "Epoch: 20 Loss: 0.45460379123687744\n",
      "Epoch: 21 Loss: 0.4336695075035095\n",
      "Epoch: 22 Loss: 0.4145451784133911\n",
      "Epoch: 23 Loss: 0.3978723883628845\n",
      "Epoch: 24 Loss: 0.3831978142261505\n",
      "Epoch: 25 Loss: 0.36886683106422424\n",
      "Epoch: 26 Loss: 0.35437875986099243\n",
      "Epoch: 27 Loss: 0.3410618007183075\n",
      "Epoch: 28 Loss: 0.32931774854660034\n",
      "Epoch: 29 Loss: 0.31737279891967773\n",
      "Epoch: 30 Loss: 0.30477359890937805\n",
      "Epoch: 31 Loss: 0.2925006151199341\n",
      "Epoch: 32 Loss: 0.2801741361618042\n",
      "Epoch: 33 Loss: 0.2679699957370758\n",
      "Epoch: 34 Loss: 0.2562776803970337\n",
      "Epoch: 35 Loss: 0.2449081540107727\n",
      "Epoch: 36 Loss: 0.233660027384758\n",
      "Epoch: 37 Loss: 0.2227124720811844\n",
      "Epoch: 38 Loss: 0.21216431260108948\n",
      "Epoch: 39 Loss: 0.20187930762767792\n",
      "Epoch: 40 Loss: 0.1920415312051773\n",
      "Epoch: 41 Loss: 0.18270812928676605\n",
      "Epoch: 42 Loss: 0.17380253970623016\n",
      "Epoch: 43 Loss: 0.16549740731716156\n",
      "Epoch: 44 Loss: 0.15767990052700043\n",
      "Epoch: 45 Loss: 0.1503925770521164\n",
      "Epoch: 46 Loss: 0.14368487894535065\n",
      "Epoch: 47 Loss: 0.1374433934688568\n",
      "Epoch: 48 Loss: 0.13176625967025757\n",
      "Epoch: 49 Loss: 0.12652592360973358\n",
      "Epoch: 50 Loss: 0.1217653825879097\n",
      "Epoch: 51 Loss: 0.11743424832820892\n",
      "Epoch: 52 Loss: 0.11348529905080795\n",
      "Epoch: 53 Loss: 0.10992064327001572\n",
      "Epoch: 54 Loss: 0.10664056241512299\n",
      "Epoch: 55 Loss: 0.10368980467319489\n",
      "Epoch: 56 Loss: 0.10097427666187286\n",
      "Epoch: 57 Loss: 0.0985216423869133\n",
      "Epoch: 58 Loss: 0.09625808149576187\n",
      "Epoch: 59 Loss: 0.09419526904821396\n",
      "Epoch: 60 Loss: 0.0922839343547821\n",
      "Epoch: 61 Loss: 0.09052490442991257\n",
      "Epoch: 62 Loss: 0.08889473229646683\n",
      "Epoch: 63 Loss: 0.0873798355460167\n",
      "Epoch: 64 Loss: 0.08597330003976822\n",
      "Epoch: 65 Loss: 0.08465603739023209\n",
      "Epoch: 66 Loss: 0.08343148976564407\n",
      "Epoch: 67 Loss: 0.08227763324975967\n",
      "Epoch: 68 Loss: 0.08120512217283249\n",
      "Epoch: 69 Loss: 0.08018741011619568\n",
      "Epoch: 70 Loss: 0.0792376920580864\n",
      "Epoch: 71 Loss: 0.07833336293697357\n",
      "Epoch: 72 Loss: 0.0774853304028511\n",
      "Epoch: 73 Loss: 0.07667414098978043\n",
      "Epoch: 74 Loss: 0.07590161263942719\n",
      "Epoch: 75 Loss: 0.07515203207731247\n",
      "Epoch: 76 Loss: 0.07443013787269592\n",
      "Epoch: 77 Loss: 0.07374197989702225\n",
      "Epoch: 78 Loss: 0.07308631390333176\n",
      "Epoch: 79 Loss: 0.07245566695928574\n",
      "Epoch: 80 Loss: 0.07184314727783203\n",
      "Epoch: 81 Loss: 0.07124979794025421\n",
      "Epoch: 82 Loss: 0.07066985219717026\n",
      "Epoch: 83 Loss: 0.07010921090841293\n",
      "Epoch: 84 Loss: 0.06956478208303452\n",
      "Epoch: 85 Loss: 0.06904520094394684\n",
      "Epoch: 86 Loss: 0.06854798644781113\n",
      "Epoch: 87 Loss: 0.068072110414505\n",
      "Epoch: 88 Loss: 0.06761851906776428\n",
      "Epoch: 89 Loss: 0.06718359142541885\n",
      "Epoch: 90 Loss: 0.06676410138607025\n",
      "Epoch: 91 Loss: 0.06636788696050644\n",
      "Epoch: 92 Loss: 0.06599155813455582\n",
      "Epoch: 93 Loss: 0.06563039124011993\n",
      "Epoch: 94 Loss: 0.0652867779135704\n",
      "Epoch: 95 Loss: 0.06495880335569382\n",
      "Epoch: 96 Loss: 0.06464547663927078\n",
      "Epoch: 97 Loss: 0.06434474140405655\n",
      "Epoch: 98 Loss: 0.06405933201313019\n",
      "Epoch: 99 Loss: 0.06378538906574249\n"
     ]
    }
   ],
   "source": [
    "# display the model architecture\n",
    "model = Model()\n",
    "print(\"Model display: \",model)\n",
    "\n",
    "# measure loss\n",
    "criterion = nn.CrossEntropyLoss()\n",
    "# optimizer Adam with a learning rate of 0.01\n",
    "optimizer = torch.optim.Adam(model.parameters(), lr=0.01)\n",
    "\n",
    "# the model will be train during 100 epochs\n",
    "epochs = 100\n",
    "\n",
    "epoch_list = []\n",
    "loss_list = []\n",
    "perf= []\n",
    "print(\"The loss is printed for each epoch: \")\n",
    "for i in range(epochs):\n",
    "    optimizer.zero_grad()\n",
    "    y_pred = model.forward(X_train)\n",
    "    loss = criterion(y_pred, y_train)\n",
    "    loss_list.append(loss)\n",
    "    loss.backward()\n",
    "    epoch_list.append(i)\n",
    "    optimizer.step()\n",
    "    \n",
    "    # the loss is printed for each epoch\n",
    "    print(f'Epoch: {i} Loss: {loss}')"
   ]
  },
  {
   "cell_type": "markdown",
   "id": "8910abf1",
   "metadata": {},
   "source": [
    "### Step 5 - Prediction and loss display"
   ]
  },
  {
   "cell_type": "code",
   "execution_count": 6,
   "id": "e7842d39",
   "metadata": {},
   "outputs": [
    {
     "name": "stdout",
     "output_type": "stream",
     "text": [
      "Last value of loss:  0.064\n",
      "Prediction accuracy:  1.0\n"
     ]
    },
    {
     "data": {
      "image/png": "[encoded data removed]",
      "text/plain": [
       "<Figure size 432x288 with 1 Axes>"
      ]
     },
     "metadata": {
      "needs_background": "light"
     },
     "output_type": "display_data"
    }
   ],
   "source": [
    "# print the last loss \n",
    "last_loss = loss_list[99].item()\n",
    "print('Last value of loss: ',round(last_loss,3))\n",
    "\n",
    "# make prediction\n",
    "predict_out = model(X_test)\n",
    "_, predict_y = torch.max(predict_out, 1)\n",
    "\n",
    "# print he accuracy\n",
    "print('Prediction accuracy: ', accuracy_score(y_test.data, predict_y.data))\n",
    "\n",
    "# display the graph of loss\n",
    "plt.plot(epoch_list,loss_list)\n",
    "plt.title('Evolution of the loss according to the number of epochs')\n",
    "plt.xlabel('Epochs')\n",
    "plt.ylabel('Loss')\n",
    "plt.show()"
   ]
  },
  {
   "cell_type": "markdown",
   "id": "c151150c",
   "metadata": {},
   "source": [
    "## Conclusion"
   ]
  },
  {
   "cell_type": "markdown",
   "id": "d7dc88f2",
   "metadata": {},
   "source": [
    "- The loss of this neural network is really low (arround 0.05 %).\n",
    "- The accuracy of the prediction is 100 %. It means that the prediction il always good with this model."
   ]
  }
 ],
 "metadata": {
  "kernelspec": {
   "display_name": "Python 3",
   "language": "python",
   "name": "python3"
  },
  "language_info": {
   "codemirror_mode": {
    "name": "ipython",
    "version": 3
   },
   "file_extension": ".py",
   "mimetype": "text/x-python",
   "name": "python",
   "nbconvert_exporter": "python",
   "pygments_lexer": "ipython3",
   "version": "3.8.8"
  }
 },
 "nbformat": 4,
 "nbformat_minor": 5
}
